{
  "nbformat": 4,
  "nbformat_minor": 0,
  "metadata": {
    "colab": {
      "name": "1.APNR_yolo5.ipynb",
      "provenance": [],
      "collapsed_sections": [],
      "include_colab_link": true
    },
    "kernelspec": {
      "name": "python3",
      "display_name": "Python 3"
    },
    "accelerator": "GPU"
  },
  "cells": [
    {
      "cell_type": "markdown",
      "metadata": {
        "id": "view-in-github",
        "colab_type": "text"
      },
      "source": [
        "<a href=\"https://colab.research.google.com/github/biranchi2018/My-ComputerVision-Examples/blob/master/1.APNR_yolo5.ipynb\" target=\"_parent\"><img src=\"https://colab.research.google.com/assets/colab-badge.svg\" alt=\"Open In Colab\"/></a>"
      ]
    },
    {
      "cell_type": "markdown",
      "metadata": {
        "id": "p0TuTFQbCuEx",
        "colab_type": "text"
      },
      "source": [
        "## APNR using Yolo5\n",
        "\n",
        "\n",
        "https://towardsdatascience.com/indian-car-license-plate-detection-using-yolo-v5-ae2574578175\n",
        "\n",
        "https://github.com/sid0312/anpr_yolov5"
      ]
    },
    {
      "cell_type": "code",
      "metadata": {
        "id": "MwmM-4xlwENE",
        "colab_type": "code",
        "colab": {
          "base_uri": "https://localhost:8080/",
          "height": 131
        },
        "outputId": "0a6ce92e-865f-4a65-dc83-8051b3ac4425"
      },
      "source": [
        "!git clone https://github.com/sid0312/anpr_yolov5"
      ],
      "execution_count": null,
      "outputs": [
        {
          "output_type": "stream",
          "text": [
            "Cloning into 'anpr_yolov5'...\n",
            "remote: Enumerating objects: 57, done.\u001b[K\n",
            "remote: Counting objects:   1% (1/57)\u001b[K\rremote: Counting objects:   3% (2/57)\u001b[K\rremote: Counting objects:   5% (3/57)\u001b[K\rremote: Counting objects:   7% (4/57)\u001b[K\rremote: Counting objects:   8% (5/57)\u001b[K\rremote: Counting objects:  10% (6/57)\u001b[K\rremote: Counting objects:  12% (7/57)\u001b[K\rremote: Counting objects:  14% (8/57)\u001b[K\rremote: Counting objects:  15% (9/57)\u001b[K\rremote: Counting objects:  17% (10/57)\u001b[K\rremote: Counting objects:  19% (11/57)\u001b[K\rremote: Counting objects:  21% (12/57)\u001b[K\rremote: Counting objects:  22% (13/57)\u001b[K\rremote: Counting objects:  24% (14/57)\u001b[K\rremote: Counting objects:  26% (15/57)\u001b[K\rremote: Counting objects:  28% (16/57)\u001b[K\rremote: Counting objects:  29% (17/57)\u001b[K\rremote: Counting objects:  31% (18/57)\u001b[K\rremote: Counting objects:  33% (19/57)\u001b[K\rremote: Counting objects:  35% (20/57)\u001b[K\rremote: Counting objects:  36% (21/57)\u001b[K\rremote: Counting objects:  38% (22/57)\u001b[K\rremote: Counting objects:  40% (23/57)\u001b[K\rremote: Counting objects:  42% (24/57)\u001b[K\rremote: Counting objects:  43% (25/57)\u001b[K\rremote: Counting objects:  45% (26/57)\u001b[K\rremote: Counting objects:  47% (27/57)\u001b[K\rremote: Counting objects:  49% (28/57)\u001b[K\rremote: Counting objects:  50% (29/57)\u001b[K\rremote: Counting objects:  52% (30/57)\u001b[K\rremote: Counting objects:  54% (31/57)\u001b[K\rremote: Counting objects:  56% (32/57)\u001b[K\rremote: Counting objects:  57% (33/57)\u001b[K\rremote: Counting objects:  59% (34/57)\u001b[K\rremote: Counting objects:  61% (35/57)\u001b[K\rremote: Counting objects:  63% (36/57)\u001b[K\rremote: Counting objects:  64% (37/57)\u001b[K\rremote: Counting objects:  66% (38/57)\u001b[K\rremote: Counting objects:  68% (39/57)\u001b[K\rremote: Counting objects:  70% (40/57)\u001b[K\rremote: Counting objects:  71% (41/57)\u001b[K\rremote: Counting objects:  73% (42/57)\u001b[K\rremote: Counting objects:  75% (43/57)\u001b[K\rremote: Counting objects:  77% (44/57)\u001b[K\rremote: Counting objects:  78% (45/57)\u001b[K\rremote: Counting objects:  80% (46/57)\u001b[K\rremote: Counting objects:  82% (47/57)\u001b[K\rremote: Counting objects:  84% (48/57)\u001b[K\rremote: Counting objects:  85% (49/57)\u001b[K\rremote: Counting objects:  87% (50/57)\u001b[K\rremote: Counting objects:  89% (51/57)\u001b[K\rremote: Counting objects:  91% (52/57)\u001b[K\rremote: Counting objects:  92% (53/57)\u001b[K\rremote: Counting objects:  94% (54/57)\u001b[K\rremote: Counting objects:  96% (55/57)\u001b[K\rremote: Counting objects:  98% (56/57)\u001b[K\rremote: Counting objects: 100% (57/57)\u001b[K\rremote: Counting objects: 100% (57/57), done.\u001b[K\n",
            "remote: Compressing objects: 100% (52/52), done.\u001b[K\n",
            "remote: Total 626 (delta 23), reused 24 (delta 4), pack-reused 569\u001b[K\n",
            "Receiving objects: 100% (626/626), 64.30 MiB | 31.18 MiB/s, done.\n",
            "Resolving deltas: 100% (50/50), done.\n"
          ],
          "name": "stdout"
        }
      ]
    },
    {
      "cell_type": "code",
      "metadata": {
        "id": "klhscyP6wtJg",
        "colab_type": "code",
        "colab": {
          "base_uri": "https://localhost:8080/",
          "height": 33
        },
        "outputId": "97bc1130-456b-4b22-d0aa-9288d189274d"
      },
      "source": [
        "%cd anpr_yolov5/"
      ],
      "execution_count": null,
      "outputs": [
        {
          "output_type": "stream",
          "text": [
            "/content/anpr_yolov5\n"
          ],
          "name": "stdout"
        }
      ]
    },
    {
      "cell_type": "code",
      "metadata": {
        "id": "DarKPl_cw4R1",
        "colab_type": "code",
        "colab": {
          "base_uri": "https://localhost:8080/",
          "height": 200
        },
        "outputId": "32f13d68-7285-4e36-a47d-cdfcdf59b079"
      },
      "source": [
        "!python detect.py --source sample_cars/  --weights weights/last.pt --conf 0.4 --save-txt"
      ],
      "execution_count": null,
      "outputs": [
        {
          "output_type": "stream",
          "text": [
            "Namespace(agnostic_nms=False, augment=False, classes=None, conf_thres=0.4, device='', fourcc='mp4v', img_size=640, iou_thres=0.5, output='inference/output', save_txt=True, source='sample_cars/', view_img=False, weights='weights/last.pt')\n",
            "Using CUDA device0 _CudaDeviceProperties(name='Tesla K80', total_memory=11441MB)\n",
            "\n",
            "image 1/5 sample_cars/car_0.jpg: 448x640 1 license_plates, Done. (0.028s)\n",
            "image 2/5 sample_cars/car_1.jpg: 384x640 Done. (0.025s)\n",
            "image 3/5 sample_cars/car_2.jpg: 512x640 1 license_plates, Done. (0.029s)\n",
            "image 4/5 sample_cars/car_3.jpg: 448x640 1 license_plates, Done. (0.027s)\n",
            "image 5/5 sample_cars/car_4.jpg: 512x640 2 license_plates, Done. (0.029s)\n",
            "Results saved to /content/anpr_yolov5/inference/output\n",
            "Done. (0.317s)\n"
          ],
          "name": "stdout"
        }
      ]
    },
    {
      "cell_type": "code",
      "metadata": {
        "id": "qw-iarrhw9tP",
        "colab_type": "code",
        "colab": {
          "base_uri": "https://localhost:8080/",
          "height": 33
        },
        "outputId": "41f18c2e-42ff-4740-f8c6-9863fb0728c9"
      },
      "source": [
        "import os\n",
        "print(os.listdir('/content/anpr_yolov5/inference/output'))"
      ],
      "execution_count": null,
      "outputs": [
        {
          "output_type": "stream",
          "text": [
            "['car_0.jpg', 'car_1.jpg', 'car_3.jpg', 'car_2.jpg', 'car_4.jpg']\n"
          ],
          "name": "stdout"
        }
      ]
    },
    {
      "cell_type": "code",
      "metadata": {
        "id": "XgFUqu763UZV",
        "colab_type": "code",
        "colab": {}
      },
      "source": [
        "from google.colab import files"
      ],
      "execution_count": null,
      "outputs": []
    },
    {
      "cell_type": "code",
      "metadata": {
        "id": "zLPbYGPe28zs",
        "colab_type": "code",
        "colab": {}
      },
      "source": [
        "for img in os.listdir('/content/anpr_yolov5/inference/output'):\n",
        "  path = os.path.join('/content/anpr_yolov5/inference/output',img)\n",
        "  files.download(path)\n"
      ],
      "execution_count": null,
      "outputs": []
    },
    {
      "cell_type": "code",
      "metadata": {
        "id": "XtKseOqV3ZnI",
        "colab_type": "code",
        "colab": {
          "base_uri": "https://localhost:8080/",
          "height": 1000
        },
        "outputId": "fda0c9bc-4845-4ef3-84a6-a74fb45446c1"
      },
      "source": [
        "!cat detect.py"
      ],
      "execution_count": null,
      "outputs": [
        {
          "output_type": "stream",
          "text": [
            "import argparse\n",
            "\n",
            "from utils.datasets import *\n",
            "from utils.utils import *\n",
            "\n",
            "\n",
            "def detect(save_img=False):\n",
            "    out, source, weights, view_img, save_txt, imgsz = \\\n",
            "        opt.output, opt.source, opt.weights, opt.view_img, opt.save_txt, opt.img_size\n",
            "    webcam = source == '0' or source.startswith('rtsp') or source.startswith('http') or source.endswith('.txt')\n",
            "\n",
            "    # Initialize\n",
            "    device = torch_utils.select_device(opt.device)\n",
            "    if os.path.exists(out):\n",
            "        shutil.rmtree(out)  # delete output folder\n",
            "    os.makedirs(out)  # make new output folder\n",
            "    half = device.type != 'cpu'  # half precision only supported on CUDA\n",
            "\n",
            "    # Load model\n",
            "    google_utils.attempt_download(weights)\n",
            "    model = torch.load(weights, map_location=device)['model'].float()  # load to FP32\n",
            "    # torch.save(torch.load(weights, map_location=device), weights)  # update model if SourceChangeWarning\n",
            "    # model.fuse()\n",
            "    model.to(device).eval()\n",
            "    if half:\n",
            "        model.half()  # to FP16\n",
            "\n",
            "    # Second-stage classifier\n",
            "    classify = False\n",
            "    if classify:\n",
            "        modelc = torch_utils.load_classifier(name='resnet101', n=2)  # initialize\n",
            "        modelc.load_state_dict(torch.load('weights/resnet101.pt', map_location=device)['model'])  # load weights\n",
            "        modelc.to(device).eval()\n",
            "\n",
            "    # Set Dataloader\n",
            "    vid_path, vid_writer = None, None\n",
            "    if webcam:\n",
            "        view_img = True\n",
            "        torch.backends.cudnn.benchmark = True  # set True to speed up constant image size inference\n",
            "        dataset = LoadStreams(source, img_size=imgsz)\n",
            "    else:\n",
            "        save_img = True\n",
            "        dataset = LoadImages(source, img_size=imgsz)\n",
            "\n",
            "    # Get names and colors\n",
            "    names = model.names if hasattr(model, 'names') else model.modules.names\n",
            "    colors = [[random.randint(0, 255) for _ in range(3)] for _ in range(len(names))]\n",
            "\n",
            "    # Run inference\n",
            "    t0 = time.time()\n",
            "    img = torch.zeros((1, 3, imgsz, imgsz), device=device)  # init img\n",
            "    _ = model(img.half() if half else img) if device.type != 'cpu' else None  # run once\n",
            "    for path, img, im0s, vid_cap in dataset:\n",
            "        img = torch.from_numpy(img).to(device)\n",
            "        img = img.half() if half else img.float()  # uint8 to fp16/32\n",
            "        img /= 255.0  # 0 - 255 to 0.0 - 1.0\n",
            "        if img.ndimension() == 3:\n",
            "            img = img.unsqueeze(0)\n",
            "\n",
            "        # Inference\n",
            "        t1 = torch_utils.time_synchronized()\n",
            "        pred = model(img, augment=opt.augment)[0]\n",
            "\n",
            "        # Apply NMS\n",
            "        pred = non_max_suppression(pred, opt.conf_thres, opt.iou_thres,\n",
            "                                   fast=True, classes=opt.classes, agnostic=opt.agnostic_nms)\n",
            "        t2 = torch_utils.time_synchronized()\n",
            "\n",
            "        # Apply Classifier\n",
            "        if classify:\n",
            "            pred = apply_classifier(pred, modelc, img, im0s)\n",
            "\n",
            "        # Process detections\n",
            "        for i, det in enumerate(pred):  # detections per image\n",
            "            if webcam:  # batch_size >= 1\n",
            "                p, s, im0 = path[i], '%g: ' % i, im0s[i].copy()\n",
            "            else:\n",
            "                p, s, im0 = path, '', im0s\n",
            "\n",
            "            save_path = str(Path(out) / Path(p).name)\n",
            "            s += '%gx%g ' % img.shape[2:]  # print string\n",
            "            gn = torch.tensor(im0.shape)[[1, 0, 1, 0]]  #  normalization gain whwh\n",
            "            if det is not None and len(det):\n",
            "                # Rescale boxes from img_size to im0 size\n",
            "                det[:, :4] = scale_coords(img.shape[2:], det[:, :4], im0.shape).round()\n",
            "\n",
            "                # Print results\n",
            "                for c in det[:, -1].unique():\n",
            "                    n = (det[:, -1] == c).sum()  # detections per class\n",
            "                    s += '%g %ss, ' % (n, names[int(c)])  # add to string\n",
            "\n",
            "                # Write results\n",
            "                for *xyxy, conf, cls in det:\n",
            "                    if save_txt:  # Write to file\n",
            "                        xywh = (xyxy2xywh(torch.tensor(xyxy).view(1, 4)) / gn).view(-1).tolist()  # normalized xywh\n",
            "                        with open(save_path[:save_path.rfind('.')] + '.txt', 'a') as file:\n",
            "                            file.write(('%g ' * 5 + '\\n') % (cls, *xywh))  # label format\n",
            "\n",
            "                    if save_img or view_img:  # Add bbox to image\n",
            "                        label = '%s %.2f' % (names[int(cls)], conf)\n",
            "                        plot_one_box(xyxy, im0, label=label, color=colors[int(cls)], line_thickness=3)\n",
            "\n",
            "            # Print time (inference + NMS)\n",
            "            print('%sDone. (%.3fs)' % (s, t2 - t1))\n",
            "\n",
            "            # Stream results\n",
            "            if view_img:\n",
            "                cv2.imshow(p, im0)\n",
            "                if cv2.waitKey(1) == ord('q'):  # q to quit\n",
            "                    raise StopIteration\n",
            "\n",
            "            # Save results (image with detections)\n",
            "            if save_img:\n",
            "                if dataset.mode == 'images':\n",
            "                    cv2.imwrite(save_path, im0)\n",
            "                else:\n",
            "                    if vid_path != save_path:  # new video\n",
            "                        vid_path = save_path\n",
            "                        if isinstance(vid_writer, cv2.VideoWriter):\n",
            "                            vid_writer.release()  # release previous video writer\n",
            "\n",
            "                        fps = vid_cap.get(cv2.CAP_PROP_FPS)\n",
            "                        w = int(vid_cap.get(cv2.CAP_PROP_FRAME_WIDTH))\n",
            "                        h = int(vid_cap.get(cv2.CAP_PROP_FRAME_HEIGHT))\n",
            "                        vid_writer = cv2.VideoWriter(save_path, cv2.VideoWriter_fourcc(*opt.fourcc), fps, (w, h))\n",
            "                    vid_writer.write(im0)\n",
            "\n",
            "    if save_txt or save_img:\n",
            "        print('Results saved to %s' % os.getcwd() + os.sep + out)\n",
            "        if platform == 'darwin':  # MacOS\n",
            "            os.system('open ' + save_path)\n",
            "\n",
            "    print('Done. (%.3fs)' % (time.time() - t0))\n",
            "\n",
            "\n",
            "if __name__ == '__main__':\n",
            "    parser = argparse.ArgumentParser()\n",
            "    parser.add_argument('--weights', type=str, default='weights/yolov5s.pt', help='model.pt path')\n",
            "    parser.add_argument('--source', type=str, default='inference/images', help='source')  # file/folder, 0 for webcam\n",
            "    parser.add_argument('--output', type=str, default='inference/output', help='output folder')  # output folder\n",
            "    parser.add_argument('--img-size', type=int, default=640, help='inference size (pixels)')\n",
            "    parser.add_argument('--conf-thres', type=float, default=0.4, help='object confidence threshold')\n",
            "    parser.add_argument('--iou-thres', type=float, default=0.5, help='IOU threshold for NMS')\n",
            "    parser.add_argument('--fourcc', type=str, default='mp4v', help='output video codec (verify ffmpeg support)')\n",
            "    parser.add_argument('--device', default='', help='cuda device, i.e. 0 or 0,1,2,3 or cpu')\n",
            "    parser.add_argument('--view-img', action='store_true', help='display results')\n",
            "    parser.add_argument('--save-txt', action='store_true', help='save results to *.txt')\n",
            "    parser.add_argument('--classes', nargs='+', type=int, help='filter by class')\n",
            "    parser.add_argument('--agnostic-nms', action='store_true', help='class-agnostic NMS')\n",
            "    parser.add_argument('--augment', action='store_true', help='augmented inference')\n",
            "    opt = parser.parse_args()\n",
            "    opt.img_size = check_img_size(opt.img_size)\n",
            "    print(opt)\n",
            "\n",
            "    with torch.no_grad():\n",
            "        detect()\n"
          ],
          "name": "stdout"
        }
      ]
    },
    {
      "cell_type": "code",
      "metadata": {
        "id": "ZwnzRmg3AlwK",
        "colab_type": "code",
        "colab": {}
      },
      "source": [
        ""
      ],
      "execution_count": null,
      "outputs": []
    }
  ]
}